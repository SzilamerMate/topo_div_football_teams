{
 "cells": [
  {
   "cell_type": "code",
   "execution_count": null,
   "id": "4fb7ae27-9d56-411f-9214-f5d649251c7f",
   "metadata": {},
   "outputs": [],
   "source": [
    "!pip install pot\n",
    "!pip install matplotlib\n",
    "!pip install mplsoccer\n",
    "!pip install numpy\n",
    "!pip install statsbombpy\n",
    "!pip install gudhi\n",
    "!pip install scikit-learn\n",
    "!pip install seaborn"
   ]
  }
 ],
 "metadata": {
  "kernelspec": {
   "display_name": "Python 3 (ipykernel)",
   "language": "python",
   "name": "python3"
  },
  "language_info": {
   "codemirror_mode": {
    "name": "ipython",
    "version": 3
   },
   "file_extension": ".py",
   "mimetype": "text/x-python",
   "name": "python",
   "nbconvert_exporter": "python",
   "pygments_lexer": "ipython3",
   "version": "3.12.3"
  }
 },
 "nbformat": 4,
 "nbformat_minor": 5
}
