{
 "cells": [
  {
   "cell_type": "code",
   "execution_count": 178,
   "id": "2e80e670-e0d8-44c2-b06d-3ad6dea08ba9",
   "metadata": {},
   "outputs": [],
   "source": [
    "# Egy jatekos fontos statisztikai (/meccs):\n"
   ]
  },
  {
   "cell_type": "code",
   "execution_count": 260,
   "id": "03d4b09f-25dc-40cf-bb4e-f191ffbe56ad",
   "metadata": {},
   "outputs": [
    {
     "name": "stderr",
     "output_type": "stream",
     "text": [
      "/home/mate-szilamer/Desktop/python-venv/myenv/lib/python3.12/site-packages/statsbombpy/api_client.py:21: NoAuthWarning: credentials were not supplied. open data access only\n",
      "  warnings.warn(\n",
      "/home/mate-szilamer/Desktop/python-venv/myenv/lib/python3.12/site-packages/statsbombpy/api_client.py:21: NoAuthWarning: credentials were not supplied. open data access only\n",
      "  warnings.warn(\n"
     ]
    },
    {
     "data": {
      "text/plain": [
       "Index(['player_id', 'player_name', 'player_nickname', 'jersey_number',\n",
       "       'country', 'cards', 'positions'],\n",
       "      dtype='object')"
      ]
     },
     "execution_count": 260,
     "metadata": {},
     "output_type": "execute_result"
    }
   ],
   "source": [
    "from statsbombpy import sb\n",
    "import numpy as np\n",
    "sb.matches(competition_id=11, season_id=27).head(3)\n",
    "lineup = sb.lineups(match_id=3825895)\n",
    "lineup[\"Sevilla\"].columns"
   ]
  },
  {
   "cell_type": "code",
   "execution_count": 265,
   "id": "d58e92f9-ace0-4d18-bdba-2b0c397eaba4",
   "metadata": {},
   "outputs": [
    {
     "name": "stderr",
     "output_type": "stream",
     "text": [
      "/home/mate-szilamer/Desktop/python-venv/myenv/lib/python3.12/site-packages/statsbombpy/api_client.py:21: NoAuthWarning: credentials were not supplied. open data access only\n",
      "  warnings.warn(\n"
     ]
    },
    {
     "data": {
      "text/html": [
       "<div>\n",
       "<style scoped>\n",
       "    .dataframe tbody tr th:only-of-type {\n",
       "        vertical-align: middle;\n",
       "    }\n",
       "\n",
       "    .dataframe tbody tr th {\n",
       "        vertical-align: top;\n",
       "    }\n",
       "\n",
       "    .dataframe thead th {\n",
       "        text-align: right;\n",
       "    }\n",
       "</style>\n",
       "<table border=\"1\" class=\"dataframe\">\n",
       "  <thead>\n",
       "    <tr style=\"text-align: right;\">\n",
       "      <th></th>\n",
       "      <th>tactics</th>\n",
       "    </tr>\n",
       "  </thead>\n",
       "  <tbody>\n",
       "    <tr>\n",
       "      <th>0</th>\n",
       "      <td>{'formation': 352, 'lineup': [{'player': {'id'...</td>\n",
       "    </tr>\n",
       "    <tr>\n",
       "      <th>1</th>\n",
       "      <td>{'formation': 442, 'lineup': [{'player': {'id'...</td>\n",
       "    </tr>\n",
       "  </tbody>\n",
       "</table>\n",
       "</div>"
      ],
      "text/plain": [
       "                                             tactics\n",
       "0  {'formation': 352, 'lineup': [{'player': {'id'...\n",
       "1  {'formation': 442, 'lineup': [{'player': {'id'..."
      ]
     },
     "execution_count": 265,
     "metadata": {},
     "output_type": "execute_result"
    }
   ],
   "source": [
    "events = sb.events(match_id=3825895)\n",
    "starting_xi = events[events[\"type\"] == \"Starting XI\"]"
   ]
  },
  {
   "cell_type": "code",
   "execution_count": 120,
   "id": "0e4c18b5-7b6a-496e-8b1f-92091dbcdd96",
   "metadata": {},
   "outputs": [
    {
     "name": "stderr",
     "output_type": "stream",
     "text": [
      "/home/mate-szilamer/Desktop/python-venv/myenv/lib/python3.12/site-packages/statsbombpy/api_client.py:21: NoAuthWarning: credentials were not supplied. open data access only\n",
      "  warnings.warn(\n"
     ]
    },
    {
     "data": {
      "text/html": [
       "<div>\n",
       "<style scoped>\n",
       "    .dataframe tbody tr th:only-of-type {\n",
       "        vertical-align: middle;\n",
       "    }\n",
       "\n",
       "    .dataframe tbody tr th {\n",
       "        vertical-align: top;\n",
       "    }\n",
       "\n",
       "    .dataframe thead th {\n",
       "        text-align: right;\n",
       "    }\n",
       "</style>\n",
       "<table border=\"1\" class=\"dataframe\">\n",
       "  <thead>\n",
       "    <tr style=\"text-align: right;\">\n",
       "      <th></th>\n",
       "      <th>50_50</th>\n",
       "      <th>ball_receipt_outcome</th>\n",
       "      <th>ball_recovery_recovery_failure</th>\n",
       "      <th>block_deflection</th>\n",
       "      <th>block_offensive</th>\n",
       "      <th>carry_end_location</th>\n",
       "      <th>clearance_aerial_won</th>\n",
       "      <th>clearance_body_part</th>\n",
       "      <th>clearance_head</th>\n",
       "      <th>clearance_left_foot</th>\n",
       "      <th>...</th>\n",
       "      <th>substitution_outcome</th>\n",
       "      <th>substitution_outcome_id</th>\n",
       "      <th>substitution_replacement</th>\n",
       "      <th>substitution_replacement_id</th>\n",
       "      <th>tactics</th>\n",
       "      <th>team</th>\n",
       "      <th>team_id</th>\n",
       "      <th>timestamp</th>\n",
       "      <th>type</th>\n",
       "      <th>under_pressure</th>\n",
       "    </tr>\n",
       "  </thead>\n",
       "  <tbody>\n",
       "    <tr>\n",
       "      <th>23</th>\n",
       "      <td>NaN</td>\n",
       "      <td>NaN</td>\n",
       "      <td>NaN</td>\n",
       "      <td>NaN</td>\n",
       "      <td>NaN</td>\n",
       "      <td>NaN</td>\n",
       "      <td>NaN</td>\n",
       "      <td>NaN</td>\n",
       "      <td>NaN</td>\n",
       "      <td>NaN</td>\n",
       "      <td>...</td>\n",
       "      <td>NaN</td>\n",
       "      <td>NaN</td>\n",
       "      <td>NaN</td>\n",
       "      <td>NaN</td>\n",
       "      <td>NaN</td>\n",
       "      <td>Las Palmas</td>\n",
       "      <td>208</td>\n",
       "      <td>00:03:30.209</td>\n",
       "      <td>Pass</td>\n",
       "      <td>NaN</td>\n",
       "    </tr>\n",
       "    <tr>\n",
       "      <th>48</th>\n",
       "      <td>NaN</td>\n",
       "      <td>NaN</td>\n",
       "      <td>NaN</td>\n",
       "      <td>NaN</td>\n",
       "      <td>NaN</td>\n",
       "      <td>NaN</td>\n",
       "      <td>NaN</td>\n",
       "      <td>NaN</td>\n",
       "      <td>NaN</td>\n",
       "      <td>NaN</td>\n",
       "      <td>...</td>\n",
       "      <td>NaN</td>\n",
       "      <td>NaN</td>\n",
       "      <td>NaN</td>\n",
       "      <td>NaN</td>\n",
       "      <td>NaN</td>\n",
       "      <td>Las Palmas</td>\n",
       "      <td>208</td>\n",
       "      <td>00:05:31.275</td>\n",
       "      <td>Pass</td>\n",
       "      <td>NaN</td>\n",
       "    </tr>\n",
       "    <tr>\n",
       "      <th>74</th>\n",
       "      <td>NaN</td>\n",
       "      <td>NaN</td>\n",
       "      <td>NaN</td>\n",
       "      <td>NaN</td>\n",
       "      <td>NaN</td>\n",
       "      <td>NaN</td>\n",
       "      <td>NaN</td>\n",
       "      <td>NaN</td>\n",
       "      <td>NaN</td>\n",
       "      <td>NaN</td>\n",
       "      <td>...</td>\n",
       "      <td>NaN</td>\n",
       "      <td>NaN</td>\n",
       "      <td>NaN</td>\n",
       "      <td>NaN</td>\n",
       "      <td>NaN</td>\n",
       "      <td>Las Palmas</td>\n",
       "      <td>208</td>\n",
       "      <td>00:07:47.319</td>\n",
       "      <td>Pass</td>\n",
       "      <td>NaN</td>\n",
       "    </tr>\n",
       "  </tbody>\n",
       "</table>\n",
       "<p>3 rows × 90 columns</p>\n",
       "</div>"
      ],
      "text/plain": [
       "   50_50 ball_receipt_outcome ball_recovery_recovery_failure block_deflection  \\\n",
       "23   NaN                  NaN                            NaN              NaN   \n",
       "48   NaN                  NaN                            NaN              NaN   \n",
       "74   NaN                  NaN                            NaN              NaN   \n",
       "\n",
       "   block_offensive carry_end_location clearance_aerial_won  \\\n",
       "23             NaN                NaN                  NaN   \n",
       "48             NaN                NaN                  NaN   \n",
       "74             NaN                NaN                  NaN   \n",
       "\n",
       "   clearance_body_part clearance_head clearance_left_foot  ...  \\\n",
       "23                 NaN            NaN                 NaN  ...   \n",
       "48                 NaN            NaN                 NaN  ...   \n",
       "74                 NaN            NaN                 NaN  ...   \n",
       "\n",
       "   substitution_outcome substitution_outcome_id substitution_replacement  \\\n",
       "23                  NaN                     NaN                      NaN   \n",
       "48                  NaN                     NaN                      NaN   \n",
       "74                  NaN                     NaN                      NaN   \n",
       "\n",
       "   substitution_replacement_id tactics        team  team_id     timestamp  \\\n",
       "23                         NaN     NaN  Las Palmas      208  00:03:30.209   \n",
       "48                         NaN     NaN  Las Palmas      208  00:05:31.275   \n",
       "74                         NaN     NaN  Las Palmas      208  00:07:47.319   \n",
       "\n",
       "    type under_pressure  \n",
       "23  Pass            NaN  \n",
       "48  Pass            NaN  \n",
       "74  Pass            NaN  \n",
       "\n",
       "[3 rows x 90 columns]"
      ]
     },
     "execution_count": 120,
     "metadata": {},
     "output_type": "execute_result"
    }
   ],
   "source": [
    "# for e in events:\n",
    "#     print(e)\n",
    "## Player: Ciro Immobile\n",
    "events_player = events[events['player_id'] == 7906 ]\n",
    "events_player.head(3)"
   ]
  },
  {
   "cell_type": "code",
   "execution_count": 222,
   "id": "c5e16e04-f346-4cd5-955c-e079df9e43be",
   "metadata": {},
   "outputs": [],
   "source": [
    "# LOVESEK:\n",
    "shot_events = events_player[events_player['type'] == \"Shot\"]"
   ]
  },
  {
   "cell_type": "code",
   "execution_count": 223,
   "id": "c0bf3373-5cbc-4344-92ed-61816d7b3ae9",
   "metadata": {},
   "outputs": [
    {
     "data": {
      "text/plain": [
       "0"
      ]
     },
     "execution_count": 223,
     "metadata": {},
     "output_type": "execute_result"
    }
   ],
   "source": [
    "# 1. Lovesek szama:\n",
    "shot_count = shot_events.shape[0]\n",
    "shot_count"
   ]
  },
  {
   "cell_type": "code",
   "execution_count": 224,
   "id": "76cdb01c-ade9-4279-ba89-6e37ff387e09",
   "metadata": {},
   "outputs": [
    {
     "data": {
      "text/plain": [
       "0"
      ]
     },
     "execution_count": 224,
     "metadata": {},
     "output_type": "execute_result"
    }
   ],
   "source": [
    "# 2. Golok szama:\n",
    "goal_count = shot_events[shot_events['shot_outcome'] == \"Goal\"].shape[0]\n",
    "goal_count"
   ]
  },
  {
   "cell_type": "code",
   "execution_count": 225,
   "id": "1e19cf61-3fea-4036-9d21-73114604f740",
   "metadata": {},
   "outputs": [
    {
     "data": {
      "text/plain": [
       "shot_statsbomb_xg    0.0\n",
       "dtype: float64"
      ]
     },
     "execution_count": 225,
     "metadata": {},
     "output_type": "execute_result"
    }
   ],
   "source": [
    "# 3. Termelt xG:\n",
    "xG = shot_events[[\"shot_statsbomb_xg\"]].sum()\n",
    "xG"
   ]
  },
  {
   "cell_type": "code",
   "execution_count": 226,
   "id": "a33f32dd-d397-4c61-b001-8039d2f43901",
   "metadata": {},
   "outputs": [
    {
     "data": {
      "text/plain": [
       "0"
      ]
     },
     "execution_count": 226,
     "metadata": {},
     "output_type": "execute_result"
    }
   ],
   "source": [
    "# 4. Kapura tarto loveseok szama:\n",
    "on_target = shot_events[shot_events['shot_outcome'].isin([\"Goal\", \"Saved\", \"Saved To Post\"])].shape[0]\n",
    "on_target"
   ]
  },
  {
   "cell_type": "code",
   "execution_count": 228,
   "id": "5c1fb641-583b-44c6-864d-72725cb935b2",
   "metadata": {},
   "outputs": [
    {
     "data": {
      "text/plain": [
       "0"
      ]
     },
     "execution_count": 228,
     "metadata": {},
     "output_type": "execute_result"
    }
   ],
   "source": [
    "# 5. Lovesi pontossag:\n",
    "shot_accurancy = 0\n",
    "if shot_count:\n",
    "    shot_accurancy = (on_target/shot_count)*100 \n",
    "shot_accurancy"
   ]
  },
  {
   "cell_type": "code",
   "execution_count": 229,
   "id": "f766b60a-8513-45a1-ae92-43720e0cab88",
   "metadata": {},
   "outputs": [],
   "source": [
    "# PASSZOK:\n",
    "pass_events = events_player[events_player['type'] == \"Pass\"]"
   ]
  },
  {
   "cell_type": "code",
   "execution_count": 230,
   "id": "d31f3622-e029-4a22-bc8b-70b104136a5c",
   "metadata": {},
   "outputs": [
    {
     "data": {
      "text/plain": [
       "54"
      ]
     },
     "execution_count": 230,
     "metadata": {},
     "output_type": "execute_result"
    }
   ],
   "source": [
    "# 6. Passzok szama:\n",
    "pass_count = pass_events.shape[0]\n",
    "pass_count"
   ]
  },
  {
   "cell_type": "code",
   "execution_count": 231,
   "id": "2e1cc56c-9676-4358-9a2a-bc1efcb7e3ed",
   "metadata": {},
   "outputs": [
    {
     "data": {
      "text/plain": [
       "79.62962962962963"
      ]
     },
     "execution_count": 231,
     "metadata": {},
     "output_type": "execute_result"
    }
   ],
   "source": [
    "# 7. Passzpontossag:\n",
    "wrong_passes = pass_events[pass_events['pass_outcome'].isin([\"Incomplete\", \"Out\", \"Pass Offside\"])].shape[0]\n",
    "successfull_passes = pass_count - wrong_passes\n",
    "pass_accurancy = (successfull_passes/pass_count)*100\n",
    "pass_accurancy"
   ]
  },
  {
   "cell_type": "code",
   "execution_count": 232,
   "id": "56ba28d8-a2ae-4718-9803-ce579eac8369",
   "metadata": {},
   "outputs": [
    {
     "data": {
      "text/plain": [
       "3"
      ]
     },
     "execution_count": 232,
     "metadata": {},
     "output_type": "execute_result"
    }
   ],
   "source": [
    "# 8. Kulcspasszok szama:\n",
    "shot_assists = pass_events[pass_events['pass_shot_assist'] == True].shape[0]\n",
    "key_passes = assists + shot_assists\n",
    "key_passes"
   ]
  },
  {
   "cell_type": "code",
   "execution_count": 233,
   "id": "6c3afe30-84fc-458a-97c3-123fc5a3f72f",
   "metadata": {},
   "outputs": [
    {
     "data": {
      "text/plain": [
       "0"
      ]
     },
     "execution_count": 233,
     "metadata": {},
     "output_type": "execute_result"
    }
   ],
   "source": [
    "# 9. Golpasszok szama:\n",
    "assists = pass_events[pass_events['pass_goal_assist'] == True].shape[0]\n",
    "assists"
   ]
  },
  {
   "cell_type": "code",
   "execution_count": 234,
   "id": "488d0ee5-b80a-4cb4-bc61-e4f59094d44d",
   "metadata": {},
   "outputs": [
    {
     "data": {
      "text/plain": [
       "shot_statsbomb_xg    0.534311\n",
       "dtype: float64"
      ]
     },
     "execution_count": 234,
     "metadata": {},
     "output_type": "execute_result"
    }
   ],
   "source": [
    "# 10. Termelt xA:\n",
    "pass_assisted_shot_id = pass_events[pass_events['pass_assisted_shot_id'].notna()]\n",
    "pass_assisted_shot_id[['pass_assisted_shot_id']]\n",
    "shot_ids = pass_assisted_shot_id['pass_assisted_shot_id'].tolist()\n",
    "ee = events[events['id'].isin(shot_ids)]\n",
    "xA = ee[[\"shot_statsbomb_xg\"]].sum()\n",
    "xA\n"
   ]
  },
  {
   "cell_type": "code",
   "execution_count": 235,
   "id": "1acf9766-bedf-4a19-9f97-0980dccb8c8d",
   "metadata": {},
   "outputs": [
    {
     "data": {
      "text/plain": [
       "0"
      ]
     },
     "execution_count": 235,
     "metadata": {},
     "output_type": "execute_result"
    }
   ],
   "source": [
    "# 11. Cross\n",
    "cross_events = pass_events[pass_events['pass_cross'] == True]\n",
    "cross_count = cross_events.shape[0]\n",
    "successful_crosses = cross_events[cross_events['pass_outcome'] == \"Complete\"].shape[0]\n",
    "successful_crosses"
   ]
  },
  {
   "cell_type": "code",
   "execution_count": 236,
   "id": "96f9f1fe-8bb2-45cd-aa01-d76965a9e0ba",
   "metadata": {},
   "outputs": [],
   "source": [
    "# DRIBBLE: (csel)\n",
    "dribble_events = events_player[events_player['type'] == \"Dribble\"]\n"
   ]
  },
  {
   "cell_type": "code",
   "execution_count": 237,
   "id": "9bd4bda1-6743-45e4-9cb9-cae959b3add1",
   "metadata": {},
   "outputs": [
    {
     "data": {
      "text/plain": [
       "2"
      ]
     },
     "execution_count": 237,
     "metadata": {},
     "output_type": "execute_result"
    }
   ],
   "source": [
    "# 12. Cselek szama:\n",
    "dribble_count = dribble_events.shape[0]\n",
    "dribble_count"
   ]
  },
  {
   "cell_type": "code",
   "execution_count": 238,
   "id": "52babd55-50ea-4874-a7db-c93e1c212f14",
   "metadata": {},
   "outputs": [],
   "source": [
    "# 13. Cselek sigeressege:\n",
    "successfull_dribbles = dribble_events[dribble_events['dribble_outcome'] == \"Complete\"].shape[0]"
   ]
  },
  {
   "cell_type": "code",
   "execution_count": 239,
   "id": "d37b766e-c860-4ed9-a243-5b5fe16a56b4",
   "metadata": {},
   "outputs": [],
   "source": [
    "# CARRY: (Labdavezetes)\n",
    "carry_events = events_player[events_player['type'] == \"Carry\"]"
   ]
  },
  {
   "cell_type": "code",
   "execution_count": 240,
   "id": "34a209b2-7a6d-4b35-9864-88eec41c4e58",
   "metadata": {},
   "outputs": [
    {
     "name": "stderr",
     "output_type": "stream",
     "text": [
      "/tmp/ipykernel_29192/1136220560.py:3: SettingWithCopyWarning: \n",
      "A value is trying to be set on a copy of a slice from a DataFrame.\n",
      "Try using .loc[row_indexer,col_indexer] = value instead\n",
      "\n",
      "See the caveats in the documentation: https://pandas.pydata.org/pandas-docs/stable/user_guide/indexing.html#returning-a-view-versus-a-copy\n",
      "  carry_count['carry_length'] = carry_count.apply(\n"
     ]
    },
    {
     "data": {
      "text/plain": [
       "10"
      ]
     },
     "execution_count": 240,
     "metadata": {},
     "output_type": "execute_result"
    }
   ],
   "source": [
    "# 14. Labdavezetesek szama: (Legalabb 10 meter)\n",
    "carry_count = carry_events\n",
    "carry_count['carry_length'] = carry_count.apply(\n",
    "    lambda row: np.linalg.norm(np.array(row['carry_end_location']) - np.array(row['location'])), axis=1\n",
    ")\n",
    "\n",
    "# Kiírás\n",
    "carries = carry_count[['location', 'carry_end_location', 'carry_length']]\n",
    "long_carries = carries[carries['carry_length'] >= 10]\n",
    "long_carries.shape[0]\n"
   ]
  },
  {
   "cell_type": "code",
   "execution_count": 241,
   "id": "268f7326-c94d-4abb-a458-4287dc6f36dc",
   "metadata": {},
   "outputs": [
    {
     "data": {
      "text/plain": [
       "0"
      ]
     },
     "execution_count": 241,
     "metadata": {},
     "output_type": "execute_result"
    }
   ],
   "source": [
    "# 15. Lefordulasok szama\n",
    "turnover_events = events_player[events_player['type'] == \"Turnover\"]\n",
    "turnover_count = turnover_events.shape[0]\n",
    "turnover_count"
   ]
  },
  {
   "cell_type": "code",
   "execution_count": 242,
   "id": "2b99d42c-ba01-4b81-aac1-0c45f7ff0cf0",
   "metadata": {},
   "outputs": [],
   "source": [
    "# FOUL COMMITTED\n",
    "foul_committed_events = events_player[events_player['type'] == \"Foul Committed\"]"
   ]
  },
  {
   "cell_type": "code",
   "execution_count": 243,
   "id": "05f188dc-7477-4601-aba5-5cf62058a0c0",
   "metadata": {},
   "outputs": [
    {
     "data": {
      "text/plain": [
       "5"
      ]
     },
     "execution_count": 243,
     "metadata": {},
     "output_type": "execute_result"
    }
   ],
   "source": [
    "# 16. Elkovetett szabalytalansagok szama:\n",
    "foul_committed_count = foul_committed_events.shape[0]\n",
    "foul_committed_count"
   ]
  },
  {
   "cell_type": "code",
   "execution_count": 244,
   "id": "06c2293e-bba4-4770-8731-7182ccf17b3c",
   "metadata": {},
   "outputs": [],
   "source": [
    "# FOUL WON\n",
    "foul_won_events = events_player[events_player['type'] == \"Foul Won\"]"
   ]
  },
  {
   "cell_type": "code",
   "execution_count": 245,
   "id": "543756d2-894c-419f-89f1-3865f11dba39",
   "metadata": {},
   "outputs": [
    {
     "data": {
      "text/plain": [
       "0"
      ]
     },
     "execution_count": 245,
     "metadata": {},
     "output_type": "execute_result"
    }
   ],
   "source": [
    "# 17. Elszenvedett szabalytalansagok szama:\n",
    "fouls_suffered_events = events_player[events_player['type'] == \"Foul Won\"]\n",
    "fouls_suffered_count = fouls_suffered_events.shape[0]\n",
    "fouls_suffered_count"
   ]
  },
  {
   "cell_type": "code",
   "execution_count": 246,
   "id": "ab7cb0e9-3021-44e6-862b-ba1f118a067f",
   "metadata": {},
   "outputs": [
    {
     "data": {
      "text/plain": [
       "0"
      ]
     },
     "execution_count": 246,
     "metadata": {},
     "output_type": "execute_result"
    }
   ],
   "source": [
    "# 18. Kiharcolt buntetok szama\n",
    "penalites_won = 0\n",
    "if foul_won_events.shape[0]:\n",
    "    penalites_won = foul_won_events[foul_won_events['foul_won_penalty'] == True].shape[0]\n",
    "penalites_won"
   ]
  },
  {
   "cell_type": "code",
   "execution_count": 247,
   "id": "c0b8f9a2-e459-4c8d-b5ef-7a8df6ba69c5",
   "metadata": {},
   "outputs": [],
   "source": [
    "# DUEL\n",
    "duel_events = events_player[events_player['type'] == \"Duel\"]"
   ]
  },
  {
   "cell_type": "code",
   "execution_count": 248,
   "id": "c8c4677b-778f-48ca-a3b6-42dee04fdd47",
   "metadata": {},
   "outputs": [
    {
     "data": {
      "text/plain": [
       "4"
      ]
     },
     "execution_count": 248,
     "metadata": {},
     "output_type": "execute_result"
    }
   ],
   "source": [
    "# 19. Duel-ek szama: \n",
    "duel_count = duel_events.shape[0]\n",
    "duel_count"
   ]
  },
  {
   "cell_type": "code",
   "execution_count": 249,
   "id": "d8c02b3e-4ad3-4d9c-9dd6-4e3c97e2f6fa",
   "metadata": {},
   "outputs": [
    {
     "data": {
      "text/plain": [
       "2"
      ]
     },
     "execution_count": 249,
     "metadata": {},
     "output_type": "execute_result"
    }
   ],
   "source": [
    "# 20. Sikeres Duel-ek szama:\n",
    "won_duels = duel_events[duel_events['duel_outcome'].isin([\"Won\", \"Success\", \"Success In Play\", \"Success Out\"])].shape[0]\n",
    "won_duels"
   ]
  },
  {
   "cell_type": "code",
   "execution_count": 250,
   "id": "e06dfcc4-baa4-480f-a62d-391cb2106052",
   "metadata": {},
   "outputs": [
    {
     "data": {
      "text/plain": [
       "(0, 0)"
      ]
     },
     "execution_count": 250,
     "metadata": {},
     "output_type": "execute_result"
    }
   ],
   "source": [
    "# 21. Megnyert legi parbajok\n",
    "aerial_duel_events = duel_events[duel_events['duel_type'] == \"Aerial\"]\n",
    "aerial_duel_count = aerial_duel_events.shape[0]\n",
    "aerial_duels_won = aerial_duel_events[aerial_duel_events['duel_outcome'] == \"Won\"].shape[0]\n",
    "aerial_duel_count, aerial_duels_won"
   ]
  },
  {
   "cell_type": "code",
   "execution_count": 251,
   "id": "c26a6821-a37c-4aa7-84d3-c722a6588ef1",
   "metadata": {},
   "outputs": [
    {
     "data": {
      "text/plain": [
       "0"
      ]
     },
     "execution_count": 251,
     "metadata": {},
     "output_type": "execute_result"
    }
   ],
   "source": [
    "# 22. Tamado Duel-ek szama\n",
    "offensive_duel_events = duel_events[duel_events['duel_type'] == \"Offensive\"]\n",
    "offensive_duel_count = offensive_duel_events.shape[0]\n",
    "offensive_duel_count"
   ]
  },
  {
   "cell_type": "code",
   "execution_count": 252,
   "id": "d72ded30-77f3-4010-9fde-b1bc103a620c",
   "metadata": {},
   "outputs": [
    {
     "data": {
      "text/plain": [
       "2"
      ]
     },
     "execution_count": 252,
     "metadata": {},
     "output_type": "execute_result"
    }
   ],
   "source": [
    "# 23. Labda visszaszerzes\n",
    "ball_recovery_events = events_player[events_player['type'] == \"Ball Recovery\"]\n",
    "ball_recovery_count = ball_recovery_events.shape[0]\n",
    "ball_recovery_count"
   ]
  },
  {
   "cell_type": "code",
   "execution_count": 253,
   "id": "894e473f-a15b-485f-866a-fc6df0de7973",
   "metadata": {},
   "outputs": [
    {
     "data": {
      "text/plain": [
       "0"
      ]
     },
     "execution_count": 253,
     "metadata": {},
     "output_type": "execute_result"
    }
   ],
   "source": [
    "# 24. Labdavesztes\n",
    "dispossessed_events = events_player[events_player['type'] == \"Dispossessed\"]\n",
    "dispossessed_count = dispossessed_events.shape[0]\n",
    "dispossessed_count"
   ]
  },
  {
   "cell_type": "code",
   "execution_count": 254,
   "id": "2a325eb4-07a1-4b3a-a05b-0ffd8f596249",
   "metadata": {},
   "outputs": [
    {
     "data": {
      "text/plain": [
       "1"
      ]
     },
     "execution_count": 254,
     "metadata": {},
     "output_type": "execute_result"
    }
   ],
   "source": [
    "# 25. Tisztazas\n",
    "clearance_events = events_player[events_player['type'] == \"Clearance\"]\n",
    "clearance_count = clearance_events.shape[0]\n",
    "clearance_count"
   ]
  },
  {
   "cell_type": "code",
   "execution_count": 255,
   "id": "9a3a22c6-dcdf-4b10-986b-ca7fa9f8dd93",
   "metadata": {},
   "outputs": [
    {
     "data": {
      "text/plain": [
       "2"
      ]
     },
     "execution_count": 255,
     "metadata": {},
     "output_type": "execute_result"
    }
   ],
   "source": [
    "# 26. Elcsipett passz\n",
    "interception_events = events_player[events_player['type'] == \"Interception\"]\n",
    "interception_count = interception_events.shape[0]\n",
    "interception_count"
   ]
  },
  {
   "cell_type": "code",
   "execution_count": 256,
   "id": "8bd0a78f-bc78-4857-95a3-f3b461b5171b",
   "metadata": {},
   "outputs": [
    {
     "data": {
      "text/plain": [
       "1"
      ]
     },
     "execution_count": 256,
     "metadata": {},
     "output_type": "execute_result"
    }
   ],
   "source": [
    "# 27. Blokkolas\n",
    "block_events = events_player[events_player['type'] == \"Block\"]\n",
    "block_count = block_events.shape[0]\n",
    "block_count"
   ]
  },
  {
   "cell_type": "code",
   "execution_count": 257,
   "id": "52cbbab4-03cb-4f7a-ade5-797506e52373",
   "metadata": {},
   "outputs": [
    {
     "data": {
      "text/plain": [
       "(2, 1)"
      ]
     },
     "execution_count": 257,
     "metadata": {},
     "output_type": "execute_result"
    }
   ],
   "source": [
    "# 28. Szereles\n",
    "tackle_events = events_player[(events_player['type'] == \"Duel\") & (events_player['duel_type'] == \"Tackle\")]\n",
    "tackle_count = tackle_events.shape[0]\n",
    "successful_tackles = tackle_events[tackle_events['duel_outcome'] == \"Won\"].shape[0]\n",
    "tackle_count, successful_tackles"
   ]
  },
  {
   "cell_type": "code",
   "execution_count": 258,
   "id": "302b3d7f-8b20-4d40-a01a-c4f3b83c9962",
   "metadata": {},
   "outputs": [
    {
     "data": {
      "text/plain": [
       "12"
      ]
     },
     "execution_count": 258,
     "metadata": {},
     "output_type": "execute_result"
    }
   ],
   "source": [
    "# 29. Nyomas ala helyezes (Pressing)\n",
    "pressure_events = events_player[events_player['type'] == \"Pressure\"]\n",
    "pressure_count = pressure_events.shape[0]\n",
    "pressure_count"
   ]
  }
 ],
 "metadata": {
  "kernelspec": {
   "display_name": "Python 3 (ipykernel)",
   "language": "python",
   "name": "python3"
  },
  "language_info": {
   "codemirror_mode": {
    "name": "ipython",
    "version": 3
   },
   "file_extension": ".py",
   "mimetype": "text/x-python",
   "name": "python",
   "nbconvert_exporter": "python",
   "pygments_lexer": "ipython3",
   "version": "3.12.3"
  }
 },
 "nbformat": 4,
 "nbformat_minor": 5
}
