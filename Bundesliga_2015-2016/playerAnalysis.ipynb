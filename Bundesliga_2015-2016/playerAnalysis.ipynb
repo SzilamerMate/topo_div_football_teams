{
 "cells": [
  {
   "cell_type": "code",
   "execution_count": 466,
   "id": "2e80e670-e0d8-44c2-b06d-3ad6dea08ba9",
   "metadata": {},
   "outputs": [],
   "source": [
    "# Egy jatekos fontos statisztikai (/meccs):\n",
    "\n",
    "# 0.  Jatszott Percek\n",
    "# 1.  Lovesek szama\n",
    "# 2.  Golok szama\n",
    "# 3.  Termelt xG\n",
    "# 4.  Kapura tarto loveseok szama\n",
    "# 5.  Lovesi pontossag\n",
    "# 6.  Passzok szama\n",
    "# 7.  Passzpontossag\n",
    "# 8.  Golpasszok szama\n",
    "# 9.  Kulcspasszok szama\n",
    "# 10. Termelt xA\n",
    "# 11. Keresztlabdak szama\n",
    "# 12. Sikeres Keresztlabdak szama\n",
    "# 13. Cselek szama\n",
    "# 14. Sikeres cselek szama\n",
    "# 15. Labdavezetesek szama (Legalabb 10 meter)\n",
    "# 16. Lefordulasok szama\n",
    "# 17. Elkovetett szabalytalansagok szama\n",
    "# 18. Elszenvedett szabalytalansagok szama\n",
    "# 19. Vedekezes kozben elszenvedett szabalytalansagok szama\n",
    "# 20. Parharcok szama\n",
    "# 21. Sikeres Parharcok szama\n",
    "# 22. Legi Parharcok szama\n",
    "# 23. Megnyert legi Parharcok szama\n",
    "# 24. Tamado Parharcok szama\n",
    "# 25. Labda visszaszerzes\n",
    "# 26. Labdavesztes\n",
    "# 27. Tisztazas\n",
    "# 28. Elcsipett passz\n",
    "# 29. Blokkolasok szama\n",
    "# 30. Szerelesek szama\n",
    "# 31. Sikeres szerelesek szama\n",
    "# 32. Nyomas ala helyezes (Pressing)"
   ]
  },
  {
   "cell_type": "code",
   "execution_count": 31,
   "id": "03d4b09f-25dc-40cf-bb4e-f191ffbe56ad",
   "metadata": {},
   "outputs": [
    {
     "data": {
      "text/html": [
       "<div>\n",
       "<style scoped>\n",
       "    .dataframe tbody tr th:only-of-type {\n",
       "        vertical-align: middle;\n",
       "    }\n",
       "\n",
       "    .dataframe tbody tr th {\n",
       "        vertical-align: top;\n",
       "    }\n",
       "\n",
       "    .dataframe thead th {\n",
       "        text-align: right;\n",
       "    }\n",
       "</style>\n",
       "<table border=\"1\" class=\"dataframe\">\n",
       "  <thead>\n",
       "    <tr style=\"text-align: right;\">\n",
       "      <th></th>\n",
       "      <th>match_id</th>\n",
       "      <th>match_date</th>\n",
       "      <th>kick_off</th>\n",
       "      <th>competition</th>\n",
       "      <th>season</th>\n",
       "      <th>home_team</th>\n",
       "      <th>away_team</th>\n",
       "      <th>home_score</th>\n",
       "      <th>away_score</th>\n",
       "      <th>match_status</th>\n",
       "      <th>...</th>\n",
       "      <th>last_updated_360</th>\n",
       "      <th>match_week</th>\n",
       "      <th>competition_stage</th>\n",
       "      <th>stadium</th>\n",
       "      <th>referee</th>\n",
       "      <th>home_managers</th>\n",
       "      <th>away_managers</th>\n",
       "      <th>data_version</th>\n",
       "      <th>shot_fidelity_version</th>\n",
       "      <th>xy_fidelity_version</th>\n",
       "    </tr>\n",
       "  </thead>\n",
       "  <tbody>\n",
       "    <tr>\n",
       "      <th>0</th>\n",
       "      <td>3754058</td>\n",
       "      <td>2016-01-02</td>\n",
       "      <td>16:00:00.000</td>\n",
       "      <td>England - Premier League</td>\n",
       "      <td>2015/2016</td>\n",
       "      <td>Leicester City</td>\n",
       "      <td>AFC Bournemouth</td>\n",
       "      <td>0</td>\n",
       "      <td>0</td>\n",
       "      <td>available</td>\n",
       "      <td>...</td>\n",
       "      <td>2021-06-12T16:17:31.694</td>\n",
       "      <td>20</td>\n",
       "      <td>Regular Season</td>\n",
       "      <td>King Power Stadium</td>\n",
       "      <td>Andre Marriner</td>\n",
       "      <td>Claudio Ranieri</td>\n",
       "      <td>Eddie Howe</td>\n",
       "      <td>1.1.0</td>\n",
       "      <td>2</td>\n",
       "      <td>2</td>\n",
       "    </tr>\n",
       "    <tr>\n",
       "      <th>1</th>\n",
       "      <td>3754245</td>\n",
       "      <td>2015-10-17</td>\n",
       "      <td>16:00:00.000</td>\n",
       "      <td>England - Premier League</td>\n",
       "      <td>2015/2016</td>\n",
       "      <td>West Bromwich Albion</td>\n",
       "      <td>Sunderland</td>\n",
       "      <td>1</td>\n",
       "      <td>0</td>\n",
       "      <td>available</td>\n",
       "      <td>...</td>\n",
       "      <td>2021-06-13T16:17:31.694</td>\n",
       "      <td>9</td>\n",
       "      <td>Regular Season</td>\n",
       "      <td>The Hawthorns</td>\n",
       "      <td>Martin Atkinson</td>\n",
       "      <td>Tony Pulis</td>\n",
       "      <td>Sam Allardyce</td>\n",
       "      <td>1.1.0</td>\n",
       "      <td>2</td>\n",
       "      <td>2</td>\n",
       "    </tr>\n",
       "    <tr>\n",
       "      <th>2</th>\n",
       "      <td>3754136</td>\n",
       "      <td>2015-12-19</td>\n",
       "      <td>18:30:00.000</td>\n",
       "      <td>England - Premier League</td>\n",
       "      <td>2015/2016</td>\n",
       "      <td>Newcastle United</td>\n",
       "      <td>Aston Villa</td>\n",
       "      <td>1</td>\n",
       "      <td>1</td>\n",
       "      <td>available</td>\n",
       "      <td>...</td>\n",
       "      <td>2021-06-13T16:17:31.694</td>\n",
       "      <td>17</td>\n",
       "      <td>Regular Season</td>\n",
       "      <td>St. James'' Park</td>\n",
       "      <td>Martin Atkinson</td>\n",
       "      <td>Steve McClaren</td>\n",
       "      <td>Rémi Garde</td>\n",
       "      <td>1.1.0</td>\n",
       "      <td>2</td>\n",
       "      <td>2</td>\n",
       "    </tr>\n",
       "    <tr>\n",
       "      <th>3</th>\n",
       "      <td>3754037</td>\n",
       "      <td>2016-04-30</td>\n",
       "      <td>16:00:00.000</td>\n",
       "      <td>England - Premier League</td>\n",
       "      <td>2015/2016</td>\n",
       "      <td>Everton</td>\n",
       "      <td>AFC Bournemouth</td>\n",
       "      <td>2</td>\n",
       "      <td>1</td>\n",
       "      <td>available</td>\n",
       "      <td>...</td>\n",
       "      <td>2021-06-12T16:17:31.694</td>\n",
       "      <td>36</td>\n",
       "      <td>Regular Season</td>\n",
       "      <td>Goodison Park</td>\n",
       "      <td>Neil Swarbrick</td>\n",
       "      <td>Roberto Martínez Montoliú</td>\n",
       "      <td>Eddie Howe</td>\n",
       "      <td>1.1.0</td>\n",
       "      <td>2</td>\n",
       "      <td>2</td>\n",
       "    </tr>\n",
       "    <tr>\n",
       "      <th>4</th>\n",
       "      <td>3754039</td>\n",
       "      <td>2016-02-13</td>\n",
       "      <td>16:00:00.000</td>\n",
       "      <td>England - Premier League</td>\n",
       "      <td>2015/2016</td>\n",
       "      <td>Crystal Palace</td>\n",
       "      <td>Watford</td>\n",
       "      <td>1</td>\n",
       "      <td>2</td>\n",
       "      <td>available</td>\n",
       "      <td>...</td>\n",
       "      <td>2021-06-12T16:17:31.694</td>\n",
       "      <td>26</td>\n",
       "      <td>Regular Season</td>\n",
       "      <td>Selhurst Park</td>\n",
       "      <td>Robert Madley</td>\n",
       "      <td>Alan Pardew</td>\n",
       "      <td>Enrique Sánchez Flores</td>\n",
       "      <td>1.1.0</td>\n",
       "      <td>2</td>\n",
       "      <td>2</td>\n",
       "    </tr>\n",
       "    <tr>\n",
       "      <th>...</th>\n",
       "      <td>...</td>\n",
       "      <td>...</td>\n",
       "      <td>...</td>\n",
       "      <td>...</td>\n",
       "      <td>...</td>\n",
       "      <td>...</td>\n",
       "      <td>...</td>\n",
       "      <td>...</td>\n",
       "      <td>...</td>\n",
       "      <td>...</td>\n",
       "      <td>...</td>\n",
       "      <td>...</td>\n",
       "      <td>...</td>\n",
       "      <td>...</td>\n",
       "      <td>...</td>\n",
       "      <td>...</td>\n",
       "      <td>...</td>\n",
       "      <td>...</td>\n",
       "      <td>...</td>\n",
       "      <td>...</td>\n",
       "      <td>...</td>\n",
       "    </tr>\n",
       "    <tr>\n",
       "      <th>375</th>\n",
       "      <td>3754020</td>\n",
       "      <td>2015-08-17</td>\n",
       "      <td>21:00:00.000</td>\n",
       "      <td>England - Premier League</td>\n",
       "      <td>2015/2016</td>\n",
       "      <td>Liverpool</td>\n",
       "      <td>AFC Bournemouth</td>\n",
       "      <td>1</td>\n",
       "      <td>0</td>\n",
       "      <td>available</td>\n",
       "      <td>...</td>\n",
       "      <td>2021-06-13T16:17:31.694</td>\n",
       "      <td>2</td>\n",
       "      <td>Regular Season</td>\n",
       "      <td>Anfield</td>\n",
       "      <td>Craig Pawson</td>\n",
       "      <td>Brendan Rodgers</td>\n",
       "      <td>Eddie Howe</td>\n",
       "      <td>1.1.0</td>\n",
       "      <td>2</td>\n",
       "      <td>2</td>\n",
       "    </tr>\n",
       "    <tr>\n",
       "      <th>376</th>\n",
       "      <td>3754267</td>\n",
       "      <td>2015-08-15</td>\n",
       "      <td>16:00:00.000</td>\n",
       "      <td>England - Premier League</td>\n",
       "      <td>2015/2016</td>\n",
       "      <td>Watford</td>\n",
       "      <td>West Bromwich Albion</td>\n",
       "      <td>0</td>\n",
       "      <td>0</td>\n",
       "      <td>available</td>\n",
       "      <td>...</td>\n",
       "      <td>2021-06-13T16:17:31.694</td>\n",
       "      <td>2</td>\n",
       "      <td>Regular Season</td>\n",
       "      <td>Vicarage Road</td>\n",
       "      <td>Paul Tierney</td>\n",
       "      <td>Enrique Sánchez Flores</td>\n",
       "      <td>Tony Pulis</td>\n",
       "      <td>1.1.0</td>\n",
       "      <td>2</td>\n",
       "      <td>2</td>\n",
       "    </tr>\n",
       "    <tr>\n",
       "      <th>377</th>\n",
       "      <td>3754141</td>\n",
       "      <td>2015-08-09</td>\n",
       "      <td>14:30:00.000</td>\n",
       "      <td>England - Premier League</td>\n",
       "      <td>2015/2016</td>\n",
       "      <td>Arsenal</td>\n",
       "      <td>West Ham United</td>\n",
       "      <td>0</td>\n",
       "      <td>2</td>\n",
       "      <td>available</td>\n",
       "      <td>...</td>\n",
       "      <td>2021-06-13T16:17:31.694</td>\n",
       "      <td>1</td>\n",
       "      <td>Regular Season</td>\n",
       "      <td>Emirates Stadium</td>\n",
       "      <td>Martin Atkinson</td>\n",
       "      <td>Arsène Wenger</td>\n",
       "      <td>Slaven Bilić</td>\n",
       "      <td>1.1.0</td>\n",
       "      <td>2</td>\n",
       "      <td>2</td>\n",
       "    </tr>\n",
       "    <tr>\n",
       "      <th>378</th>\n",
       "      <td>3754128</td>\n",
       "      <td>2015-08-08</td>\n",
       "      <td>16:00:00.000</td>\n",
       "      <td>England - Premier League</td>\n",
       "      <td>2015/2016</td>\n",
       "      <td>AFC Bournemouth</td>\n",
       "      <td>Aston Villa</td>\n",
       "      <td>0</td>\n",
       "      <td>1</td>\n",
       "      <td>available</td>\n",
       "      <td>...</td>\n",
       "      <td>2021-06-13T16:17:31.694</td>\n",
       "      <td>1</td>\n",
       "      <td>Regular Season</td>\n",
       "      <td>Vitality Stadium</td>\n",
       "      <td>Mark Clattenburg</td>\n",
       "      <td>Eddie Howe</td>\n",
       "      <td>Tim Sherwood</td>\n",
       "      <td>1.1.0</td>\n",
       "      <td>2</td>\n",
       "      <td>2</td>\n",
       "    </tr>\n",
       "    <tr>\n",
       "      <th>379</th>\n",
       "      <td>3754078</td>\n",
       "      <td>2015-08-08</td>\n",
       "      <td>18:30:00.000</td>\n",
       "      <td>England - Premier League</td>\n",
       "      <td>2015/2016</td>\n",
       "      <td>Chelsea</td>\n",
       "      <td>Swansea City</td>\n",
       "      <td>2</td>\n",
       "      <td>2</td>\n",
       "      <td>available</td>\n",
       "      <td>...</td>\n",
       "      <td>2021-06-13T16:17:31.694</td>\n",
       "      <td>1</td>\n",
       "      <td>Regular Season</td>\n",
       "      <td>Stamford Bridge</td>\n",
       "      <td>Michael Oliver</td>\n",
       "      <td>José Mario Felix dos Santos Mourinho</td>\n",
       "      <td>Garry Monk</td>\n",
       "      <td>1.1.0</td>\n",
       "      <td>2</td>\n",
       "      <td>2</td>\n",
       "    </tr>\n",
       "  </tbody>\n",
       "</table>\n",
       "<p>380 rows × 22 columns</p>\n",
       "</div>"
      ],
      "text/plain": [
       "     match_id  match_date      kick_off               competition     season  \\\n",
       "0     3754058  2016-01-02  16:00:00.000  England - Premier League  2015/2016   \n",
       "1     3754245  2015-10-17  16:00:00.000  England - Premier League  2015/2016   \n",
       "2     3754136  2015-12-19  18:30:00.000  England - Premier League  2015/2016   \n",
       "3     3754037  2016-04-30  16:00:00.000  England - Premier League  2015/2016   \n",
       "4     3754039  2016-02-13  16:00:00.000  England - Premier League  2015/2016   \n",
       "..        ...         ...           ...                       ...        ...   \n",
       "375   3754020  2015-08-17  21:00:00.000  England - Premier League  2015/2016   \n",
       "376   3754267  2015-08-15  16:00:00.000  England - Premier League  2015/2016   \n",
       "377   3754141  2015-08-09  14:30:00.000  England - Premier League  2015/2016   \n",
       "378   3754128  2015-08-08  16:00:00.000  England - Premier League  2015/2016   \n",
       "379   3754078  2015-08-08  18:30:00.000  England - Premier League  2015/2016   \n",
       "\n",
       "                home_team             away_team  home_score  away_score  \\\n",
       "0          Leicester City       AFC Bournemouth           0           0   \n",
       "1    West Bromwich Albion            Sunderland           1           0   \n",
       "2        Newcastle United           Aston Villa           1           1   \n",
       "3                 Everton       AFC Bournemouth           2           1   \n",
       "4          Crystal Palace               Watford           1           2   \n",
       "..                    ...                   ...         ...         ...   \n",
       "375             Liverpool       AFC Bournemouth           1           0   \n",
       "376               Watford  West Bromwich Albion           0           0   \n",
       "377               Arsenal       West Ham United           0           2   \n",
       "378       AFC Bournemouth           Aston Villa           0           1   \n",
       "379               Chelsea          Swansea City           2           2   \n",
       "\n",
       "    match_status  ...         last_updated_360 match_week competition_stage  \\\n",
       "0      available  ...  2021-06-12T16:17:31.694         20    Regular Season   \n",
       "1      available  ...  2021-06-13T16:17:31.694          9    Regular Season   \n",
       "2      available  ...  2021-06-13T16:17:31.694         17    Regular Season   \n",
       "3      available  ...  2021-06-12T16:17:31.694         36    Regular Season   \n",
       "4      available  ...  2021-06-12T16:17:31.694         26    Regular Season   \n",
       "..           ...  ...                      ...        ...               ...   \n",
       "375    available  ...  2021-06-13T16:17:31.694          2    Regular Season   \n",
       "376    available  ...  2021-06-13T16:17:31.694          2    Regular Season   \n",
       "377    available  ...  2021-06-13T16:17:31.694          1    Regular Season   \n",
       "378    available  ...  2021-06-13T16:17:31.694          1    Regular Season   \n",
       "379    available  ...  2021-06-13T16:17:31.694          1    Regular Season   \n",
       "\n",
       "                 stadium           referee  \\\n",
       "0    King Power Stadium     Andre Marriner   \n",
       "1          The Hawthorns   Martin Atkinson   \n",
       "2       St. James'' Park   Martin Atkinson   \n",
       "3          Goodison Park    Neil Swarbrick   \n",
       "4          Selhurst Park     Robert Madley   \n",
       "..                   ...               ...   \n",
       "375             Anfield       Craig Pawson   \n",
       "376        Vicarage Road      Paul Tierney   \n",
       "377     Emirates Stadium   Martin Atkinson   \n",
       "378     Vitality Stadium  Mark Clattenburg   \n",
       "379      Stamford Bridge    Michael Oliver   \n",
       "\n",
       "                            home_managers           away_managers  \\\n",
       "0                         Claudio Ranieri              Eddie Howe   \n",
       "1                              Tony Pulis           Sam Allardyce   \n",
       "2                          Steve McClaren              Rémi Garde   \n",
       "3               Roberto Martínez Montoliú              Eddie Howe   \n",
       "4                             Alan Pardew  Enrique Sánchez Flores   \n",
       "..                                    ...                     ...   \n",
       "375                       Brendan Rodgers              Eddie Howe   \n",
       "376                Enrique Sánchez Flores              Tony Pulis   \n",
       "377                         Arsène Wenger            Slaven Bilić   \n",
       "378                            Eddie Howe            Tim Sherwood   \n",
       "379  José Mario Felix dos Santos Mourinho              Garry Monk   \n",
       "\n",
       "    data_version shot_fidelity_version xy_fidelity_version  \n",
       "0          1.1.0                     2                   2  \n",
       "1          1.1.0                     2                   2  \n",
       "2          1.1.0                     2                   2  \n",
       "3          1.1.0                     2                   2  \n",
       "4          1.1.0                     2                   2  \n",
       "..           ...                   ...                 ...  \n",
       "375        1.1.0                     2                   2  \n",
       "376        1.1.0                     2                   2  \n",
       "377        1.1.0                     2                   2  \n",
       "378        1.1.0                     2                   2  \n",
       "379        1.1.0                     2                   2  \n",
       "\n",
       "[380 rows x 22 columns]"
      ]
     },
     "execution_count": 31,
     "metadata": {},
     "output_type": "execute_result"
    }
   ],
   "source": [
    "import warnings\n",
    "from statsbombpy import sb\n",
    "import numpy as np\n",
    "warnings.filterwarnings(\"ignore\", category=UserWarning)\n",
    "\n",
    "matches = sb.matches(competition_id=2, season_id=27)\n",
    "lineup = sb.lineups(match_id=3825895)\n",
    "sevilla_player_ids = lineup[\"Sevilla\"][\"player_id\"].tolist()\n",
    "las_palmas_player_ids = lineup[\"Las Palmas\"][\"player_id\"].tolist()\n",
    "matches"
   ]
  },
  {
   "cell_type": "code",
   "execution_count": 5,
   "id": "d58e92f9-ace0-4d18-bdba-2b0c397eaba4",
   "metadata": {},
   "outputs": [],
   "source": [
    "events = sb.events(match_id=3825895)"
   ]
  },
  {
   "cell_type": "code",
   "execution_count": 27,
   "id": "0e4c18b5-7b6a-496e-8b1f-92091dbcdd96",
   "metadata": {},
   "outputs": [
    {
     "data": {
      "text/html": [
       "<div>\n",
       "<style scoped>\n",
       "    .dataframe tbody tr th:only-of-type {\n",
       "        vertical-align: middle;\n",
       "    }\n",
       "\n",
       "    .dataframe tbody tr th {\n",
       "        vertical-align: top;\n",
       "    }\n",
       "\n",
       "    .dataframe thead th {\n",
       "        text-align: right;\n",
       "    }\n",
       "</style>\n",
       "<table border=\"1\" class=\"dataframe\">\n",
       "  <thead>\n",
       "    <tr style=\"text-align: right;\">\n",
       "      <th></th>\n",
       "      <th>player</th>\n",
       "      <th>minute</th>\n",
       "      <th>type</th>\n",
       "    </tr>\n",
       "  </thead>\n",
       "  <tbody>\n",
       "    <tr>\n",
       "      <th>741</th>\n",
       "      <td>Nabil El Zhar</td>\n",
       "      <td>74</td>\n",
       "      <td>Pass</td>\n",
       "    </tr>\n",
       "    <tr>\n",
       "      <th>831</th>\n",
       "      <td>Nabil El Zhar</td>\n",
       "      <td>86</td>\n",
       "      <td>Pass</td>\n",
       "    </tr>\n",
       "    <tr>\n",
       "      <th>841</th>\n",
       "      <td>Nabil El Zhar</td>\n",
       "      <td>87</td>\n",
       "      <td>Pass</td>\n",
       "    </tr>\n",
       "  </tbody>\n",
       "</table>\n",
       "</div>"
      ],
      "text/plain": [
       "            player  minute  type\n",
       "741  Nabil El Zhar      74  Pass\n",
       "831  Nabil El Zhar      86  Pass\n",
       "841  Nabil El Zhar      87  Pass"
      ]
     },
     "execution_count": 27,
     "metadata": {},
     "output_type": "execute_result"
    }
   ],
   "source": [
    "## Player: Ciro Immobile\n",
    "player_id = las_palmas_player_ids[1]\n",
    "events_player = events[events['player_id'] == player_id ]\n",
    "events_player[['player', 'minute', 'type']].head(3)"
   ]
  },
  {
   "cell_type": "code",
   "execution_count": 28,
   "id": "5375f68a-52d0-4014-ae4a-dc5367547e26",
   "metadata": {},
   "outputs": [
    {
     "data": {
      "text/plain": [
       "False"
      ]
     },
     "execution_count": 28,
     "metadata": {},
     "output_type": "execute_result"
    }
   ],
   "source": [
    "stating_xi_events = events[events['type'] == \"Starting XI\"]\n",
    "stating_xi_events['tactics']\n",
    "lineup_team = stating_xi_events[stating_xi_events['team']  == \"Las Palmas\"]\n",
    "new_df = lineup_team.copy()\n",
    "new_df['lineup'] = new_df['tactics'].apply(lambda x: x.get('lineup') if isinstance(x, dict) else None)\n",
    "\n",
    "new_df['lineup']\n",
    "\n",
    "new_df['is_in_starting_xi'] = new_df['lineup'].apply(\n",
    "    lambda lineup: any(player['player']['id'] == player_id for player in lineup) if isinstance(lineup, list) else False\n",
    ")\n",
    "is_starting_ = new_df.loc[0, 'is_in_starting_xi']\n",
    "is_starting = bool(is_starting_)\n",
    "is_starting"
   ]
  },
  {
   "cell_type": "code",
   "execution_count": 30,
   "id": "145db431-a207-4f44-83ca-ae8c4721efd2",
   "metadata": {},
   "outputs": [
    {
     "data": {
      "text/plain": [
       "17"
      ]
     },
     "execution_count": 30,
     "metadata": {},
     "output_type": "execute_result"
    }
   ],
   "source": [
    "# 0. Jatszott Percek:\n",
    "stating_xi_events = events[events['type'] == \"Starting XI\"]\n",
    "stating_xi_events['tactics']\n",
    "lineup_team = stating_xi_events[stating_xi_events['team']  == \"Las Palmas\"]\n",
    "new_df = lineup_team.copy()\n",
    "new_df['lineup'] = new_df['tactics'].apply(lambda x: x.get('lineup') if isinstance(x, dict) else None)\n",
    "\n",
    "new_df['lineup']\n",
    "\n",
    "new_df['is_in_starting_xi'] = new_df['lineup'].apply(\n",
    "    lambda lineup: any(player['player']['id'] == player_id for player in lineup) if isinstance(lineup, list) else False\n",
    ")\n",
    "is_starting_ = new_df.loc[0, 'is_in_starting_xi']\n",
    "is_starting = bool(is_starting_)\n",
    "is_starting\n",
    "        \n",
    "substitution_events = events[events['type'] == \"Substitution\"]\n",
    "player_start_time = 0\n",
    "player_end_time = 90\n",
    "if not is_starting:\n",
    "    player_start_time = 90\n",
    "\n",
    "sub_in_event = substitution_events[(substitution_events['substitution_replacement_id'] == player_id)]\n",
    "\n",
    "sub_out_event = substitution_events[(substitution_events['player_id'] == player_id)]\n",
    "\n",
    "if not sub_in_event.empty:\n",
    "    player_start_time = sub_in_event['minute'].iloc[0]  # Get the minute of substitution\n",
    "\n",
    "if not sub_out_event.empty:\n",
    "    player_end_time = sub_out_event['minute'].iloc[0]  # Get the minute of substitution\n",
    "\n",
    "minutes_played = player_end_time - player_start_time\n",
    "int(minutes_played)"
   ]
  },
  {
   "cell_type": "code",
   "execution_count": 425,
   "id": "c5e16e04-f346-4cd5-955c-e079df9e43be",
   "metadata": {},
   "outputs": [],
   "source": [
    "# LOVESEK:\n",
    "shot_events = events_player[events_player['type'] == \"Shot\"]"
   ]
  },
  {
   "cell_type": "code",
   "execution_count": 426,
   "id": "c0bf3373-5cbc-4344-92ed-61816d7b3ae9",
   "metadata": {},
   "outputs": [
    {
     "data": {
      "text/plain": [
       "0"
      ]
     },
     "execution_count": 426,
     "metadata": {},
     "output_type": "execute_result"
    }
   ],
   "source": [
    "# 1. Lovesek szama:\n",
    "shot_count = shot_events.shape[0]\n",
    "shot_count"
   ]
  },
  {
   "cell_type": "code",
   "execution_count": 427,
   "id": "76cdb01c-ade9-4279-ba89-6e37ff387e09",
   "metadata": {},
   "outputs": [
    {
     "data": {
      "text/plain": [
       "0"
      ]
     },
     "execution_count": 427,
     "metadata": {},
     "output_type": "execute_result"
    }
   ],
   "source": [
    "# 2. Golok szama:\n",
    "goal_count = shot_events[shot_events['shot_outcome'] == \"Goal\"].shape[0]\n",
    "goal_count"
   ]
  },
  {
   "cell_type": "code",
   "execution_count": 428,
   "id": "1e19cf61-3fea-4036-9d21-73114604f740",
   "metadata": {},
   "outputs": [
    {
     "data": {
      "text/plain": [
       "0.0"
      ]
     },
     "execution_count": 428,
     "metadata": {},
     "output_type": "execute_result"
    }
   ],
   "source": [
    "# 3. Termelt xG:\n",
    "xG_ = shot_events[[\"shot_statsbomb_xg\"]].sum()\n",
    "xG = float(xG_.iloc[0])\n",
    "xG"
   ]
  },
  {
   "cell_type": "code",
   "execution_count": 429,
   "id": "a33f32dd-d397-4c61-b001-8039d2f43901",
   "metadata": {},
   "outputs": [
    {
     "data": {
      "text/plain": [
       "0"
      ]
     },
     "execution_count": 429,
     "metadata": {},
     "output_type": "execute_result"
    }
   ],
   "source": [
    "# 4. Kapura tarto loveseok szama:\n",
    "on_target = shot_events[shot_events['shot_outcome'].isin([\"Goal\", \"Saved\", \"Saved To Post\"])].shape[0]\n",
    "on_target"
   ]
  },
  {
   "cell_type": "code",
   "execution_count": 430,
   "id": "5c1fb641-583b-44c6-864d-72725cb935b2",
   "metadata": {},
   "outputs": [
    {
     "data": {
      "text/plain": [
       "0"
      ]
     },
     "execution_count": 430,
     "metadata": {},
     "output_type": "execute_result"
    }
   ],
   "source": [
    "# 5. Lovesi pontossag:\n",
    "shot_accurancy = 0\n",
    "if shot_count:\n",
    "    shot_accurancy = (on_target/shot_count)*100 \n",
    "shot_accurancy"
   ]
  },
  {
   "cell_type": "code",
   "execution_count": 431,
   "id": "f766b60a-8513-45a1-ae92-43720e0cab88",
   "metadata": {},
   "outputs": [],
   "source": [
    "# PASSZOK:\n",
    "pass_events = events_player[events_player['type'] == \"Pass\"]"
   ]
  },
  {
   "cell_type": "code",
   "execution_count": 432,
   "id": "d31f3622-e029-4a22-bc8b-70b104136a5c",
   "metadata": {},
   "outputs": [
    {
     "data": {
      "text/plain": [
       "6"
      ]
     },
     "execution_count": 432,
     "metadata": {},
     "output_type": "execute_result"
    }
   ],
   "source": [
    "# 6. Passzok szama:\n",
    "pass_count = pass_events.shape[0]\n",
    "pass_count"
   ]
  },
  {
   "cell_type": "code",
   "execution_count": 433,
   "id": "2e1cc56c-9676-4358-9a2a-bc1efcb7e3ed",
   "metadata": {},
   "outputs": [
    {
     "data": {
      "text/plain": [
       "50.0"
      ]
     },
     "execution_count": 433,
     "metadata": {},
     "output_type": "execute_result"
    }
   ],
   "source": [
    "# 7. Passzpontossag:\n",
    "wrong_passes = pass_events[pass_events['pass_outcome'].isin([\"Incomplete\", \"Out\", \"Pass Offside\"])].shape[0]\n",
    "successfull_passes = pass_count - wrong_passes\n",
    "pass_accurancy = 0\n",
    "if pass_count:\n",
    "    pass_accurancy = (successfull_passes/pass_count)*100\n",
    "pass_accurancy"
   ]
  },
  {
   "cell_type": "code",
   "execution_count": 434,
   "id": "6c3afe30-84fc-458a-97c3-123fc5a3f72f",
   "metadata": {},
   "outputs": [
    {
     "data": {
      "text/plain": [
       "0"
      ]
     },
     "execution_count": 434,
     "metadata": {},
     "output_type": "execute_result"
    }
   ],
   "source": [
    "# 8. Golpasszok szama:\n",
    "assists = pass_events[pass_events['pass_goal_assist'] == True].shape[0]\n",
    "assists"
   ]
  },
  {
   "cell_type": "code",
   "execution_count": 435,
   "id": "56ba28d8-a2ae-4718-9803-ce579eac8369",
   "metadata": {},
   "outputs": [
    {
     "data": {
      "text/plain": [
       "0"
      ]
     },
     "execution_count": 435,
     "metadata": {},
     "output_type": "execute_result"
    }
   ],
   "source": [
    "# 9. Kulcspasszok szama:\n",
    "shot_assists = pass_events[pass_events['pass_shot_assist'] == True].shape[0]\n",
    "key_passes = assists + shot_assists\n",
    "key_passes"
   ]
  },
  {
   "cell_type": "code",
   "execution_count": 436,
   "id": "488d0ee5-b80a-4cb4-bc61-e4f59094d44d",
   "metadata": {},
   "outputs": [
    {
     "data": {
      "text/plain": [
       "0.0"
      ]
     },
     "execution_count": 436,
     "metadata": {},
     "output_type": "execute_result"
    }
   ],
   "source": [
    "# 10. Termelt xA:\n",
    "pass_assisted_shot_id = pass_events[pass_events['pass_assisted_shot_id'].notna()]\n",
    "pass_assisted_shot_id[['pass_assisted_shot_id']]\n",
    "shot_ids = pass_assisted_shot_id['pass_assisted_shot_id'].tolist()\n",
    "ee = events[events['id'].isin(shot_ids)]\n",
    "xA_ = ee[[\"shot_statsbomb_xg\"]].sum()\n",
    "xA = float(xA_.iloc[0])\n",
    "xA"
   ]
  },
  {
   "cell_type": "code",
   "execution_count": 2,
   "id": "1acf9766-bedf-4a19-9f97-0980dccb8c8d",
   "metadata": {},
   "outputs": [
    {
     "ename": "NameError",
     "evalue": "name 'pass_events' is not defined",
     "output_type": "error",
     "traceback": [
      "\u001b[31m---------------------------------------------------------------------------\u001b[39m",
      "\u001b[31mNameError\u001b[39m                                 Traceback (most recent call last)",
      "\u001b[36mCell\u001b[39m\u001b[36m \u001b[39m\u001b[32mIn[2]\u001b[39m\u001b[32m, line 2\u001b[39m\n\u001b[32m      1\u001b[39m \u001b[38;5;66;03m# 11. Keresztlabdak szama:\u001b[39;00m\n\u001b[32m----> \u001b[39m\u001b[32m2\u001b[39m cross_events = \u001b[43mpass_events\u001b[49m[pass_events[\u001b[33m'\u001b[39m\u001b[33mpass_cross\u001b[39m\u001b[33m'\u001b[39m] == \u001b[38;5;28;01mTrue\u001b[39;00m]\n\u001b[32m      3\u001b[39m cross_count = cross_events.shape[\u001b[32m0\u001b[39m]\n\u001b[32m      4\u001b[39m cross_count\n",
      "\u001b[31mNameError\u001b[39m: name 'pass_events' is not defined"
     ]
    }
   ],
   "source": [
    "# 11. Keresztlabdak szama:\n",
    "cross_events = pass_events[pass_events['pass_cross'] == True]\n",
    "cross_count = cross_events.shape[0]\n",
    "cross_count"
   ]
  },
  {
   "cell_type": "code",
   "execution_count": 438,
   "id": "20297f63-c2af-4bc7-9851-116db2d865b5",
   "metadata": {},
   "outputs": [
    {
     "data": {
      "text/plain": [
       "0"
      ]
     },
     "execution_count": 438,
     "metadata": {},
     "output_type": "execute_result"
    }
   ],
   "source": [
    "# 12. Sikeres Keresztlabdak szama:\n",
    "successful_crosses = cross_events[cross_events['pass_outcome'] == \"Complete\"].shape[0]\n",
    "successful_crosses"
   ]
  },
  {
   "cell_type": "code",
   "execution_count": 439,
   "id": "96f9f1fe-8bb2-45cd-aa01-d76965a9e0ba",
   "metadata": {},
   "outputs": [],
   "source": [
    "# DRIBBLE: (csel)\n",
    "dribble_events = events_player[events_player['type'] == \"Dribble\"]\n"
   ]
  },
  {
   "cell_type": "code",
   "execution_count": 440,
   "id": "9bd4bda1-6743-45e4-9cb9-cae959b3add1",
   "metadata": {},
   "outputs": [
    {
     "data": {
      "text/plain": [
       "2"
      ]
     },
     "execution_count": 440,
     "metadata": {},
     "output_type": "execute_result"
    }
   ],
   "source": [
    "# 13. Cselek szama:\n",
    "dribble_count = dribble_events.shape[0]\n",
    "dribble_count"
   ]
  },
  {
   "cell_type": "code",
   "execution_count": 441,
   "id": "52babd55-50ea-4874-a7db-c93e1c212f14",
   "metadata": {},
   "outputs": [
    {
     "data": {
      "text/plain": [
       "0"
      ]
     },
     "execution_count": 441,
     "metadata": {},
     "output_type": "execute_result"
    }
   ],
   "source": [
    "# 14. Sikeres cselek szama:\n",
    "successfull_dribbles = dribble_events[dribble_events['dribble_outcome'] == \"Complete\"].shape[0]\n",
    "successfull_dribbles"
   ]
  },
  {
   "cell_type": "code",
   "execution_count": 442,
   "id": "d37b766e-c860-4ed9-a243-5b5fe16a56b4",
   "metadata": {},
   "outputs": [],
   "source": [
    "# CARRY: (Labdavezetes)\n",
    "carry_events = events_player[events_player['type'] == \"Carry\"]"
   ]
  },
  {
   "cell_type": "code",
   "execution_count": 443,
   "id": "34a209b2-7a6d-4b35-9864-88eec41c4e58",
   "metadata": {},
   "outputs": [
    {
     "data": {
      "text/plain": [
       "3"
      ]
     },
     "execution_count": 443,
     "metadata": {},
     "output_type": "execute_result"
    }
   ],
   "source": [
    "# 15. Labdavezetesek szama: (Legalabb 10 meter)\n",
    "carry_count = carry_events\n",
    "carry_count = carry_count.copy()\n",
    "carry_count['carry_length'] = carry_count.apply(\n",
    "    lambda row: np.linalg.norm(np.array(row['carry_end_location']) - np.array(row['location'])), axis=1\n",
    ")\n",
    "\n",
    "# Kiírás\n",
    "carries = carry_count[['location', 'carry_end_location', 'carry_length']]\n",
    "long_carries = carries[carries['carry_length'] >= 10]\n",
    "long_carries.shape[0]\n"
   ]
  },
  {
   "cell_type": "code",
   "execution_count": 444,
   "id": "268f7326-c94d-4abb-a458-4287dc6f36dc",
   "metadata": {},
   "outputs": [
    {
     "data": {
      "text/plain": [
       "0"
      ]
     },
     "execution_count": 444,
     "metadata": {},
     "output_type": "execute_result"
    }
   ],
   "source": [
    "# 16. Lefordulasok szama:\n",
    "turnover_events = events_player[events_player['type'] == \"Turnover\"]\n",
    "turnover_count = turnover_events.shape[0]\n",
    "turnover_count"
   ]
  },
  {
   "cell_type": "code",
   "execution_count": 445,
   "id": "2b99d42c-ba01-4b81-aac1-0c45f7ff0cf0",
   "metadata": {},
   "outputs": [],
   "source": [
    "# FOUL COMMITTED\n",
    "foul_committed_events = events_player[events_player['type'] == \"Foul Committed\"]"
   ]
  },
  {
   "cell_type": "code",
   "execution_count": 446,
   "id": "05f188dc-7477-4601-aba5-5cf62058a0c0",
   "metadata": {},
   "outputs": [
    {
     "data": {
      "text/plain": [
       "0"
      ]
     },
     "execution_count": 446,
     "metadata": {},
     "output_type": "execute_result"
    }
   ],
   "source": [
    "# 17. Elkovetett szabalytalansagok szama:\n",
    "foul_committed_count = foul_committed_events.shape[0]\n",
    "foul_committed_count"
   ]
  },
  {
   "cell_type": "code",
   "execution_count": 447,
   "id": "06c2293e-bba4-4770-8731-7182ccf17b3c",
   "metadata": {},
   "outputs": [],
   "source": [
    "# FOUL WON\n",
    "foul_won_events = events_player[events_player['type'] == \"Foul Won\"] "
   ]
  },
  {
   "cell_type": "code",
   "execution_count": 448,
   "id": "543756d2-894c-419f-89f1-3865f11dba39",
   "metadata": {},
   "outputs": [
    {
     "data": {
      "text/plain": [
       "2"
      ]
     },
     "execution_count": 448,
     "metadata": {},
     "output_type": "execute_result"
    }
   ],
   "source": [
    "# 18. Elszenvedett szabalytalansagok szama:\n",
    "fouls_suffered_events = events_player[events_player['type'] == \"Foul Won\"]\n",
    "fouls_suffered_count = fouls_suffered_events.shape[0]\n",
    "fouls_suffered_count"
   ]
  },
  {
   "cell_type": "code",
   "execution_count": 449,
   "id": "ab7cb0e9-3021-44e6-862b-ba1f118a067f",
   "metadata": {},
   "outputs": [
    {
     "data": {
      "text/plain": [
       "0"
      ]
     },
     "execution_count": 449,
     "metadata": {},
     "output_type": "execute_result"
    }
   ],
   "source": [
    "# 19. Vedekezes kozben elszenvedett szabalytalansagok szama:\n",
    "penalites_won = 0\n",
    "if foul_won_events.shape[0]:\n",
    "    penalites_won = foul_won_events[foul_won_events['foul_won_defensive'] == True].shape[0]\n",
    "penalites_won"
   ]
  },
  {
   "cell_type": "code",
   "execution_count": 450,
   "id": "c0b8f9a2-e459-4c8d-b5ef-7a8df6ba69c5",
   "metadata": {},
   "outputs": [],
   "source": [
    "# DUEL\n",
    "duel_events = events_player[events_player['type'] == \"Duel\"]"
   ]
  },
  {
   "cell_type": "code",
   "execution_count": 451,
   "id": "c8c4677b-778f-48ca-a3b6-42dee04fdd47",
   "metadata": {},
   "outputs": [
    {
     "data": {
      "text/plain": [
       "3"
      ]
     },
     "execution_count": 451,
     "metadata": {},
     "output_type": "execute_result"
    }
   ],
   "source": [
    "# 20. Parharcok szama:\n",
    "duel_count = duel_events.shape[0]\n",
    "duel_count"
   ]
  },
  {
   "cell_type": "code",
   "execution_count": 452,
   "id": "d8c02b3e-4ad3-4d9c-9dd6-4e3c97e2f6fa",
   "metadata": {},
   "outputs": [
    {
     "data": {
      "text/plain": [
       "0"
      ]
     },
     "execution_count": 452,
     "metadata": {},
     "output_type": "execute_result"
    }
   ],
   "source": [
    "# 21. Sikeres Parharcok szama:\n",
    "won_duels = duel_events[duel_events['duel_outcome'].isin([\"Won\", \"Success\", \"Success In Play\", \"Success Out\"])].shape[0]\n",
    "won_duels"
   ]
  },
  {
   "cell_type": "code",
   "execution_count": 453,
   "id": "e06dfcc4-baa4-480f-a62d-391cb2106052",
   "metadata": {},
   "outputs": [
    {
     "data": {
      "text/plain": [
       "0"
      ]
     },
     "execution_count": 453,
     "metadata": {},
     "output_type": "execute_result"
    }
   ],
   "source": [
    "# 22. Legi Parharcok szama:\n",
    "aerial_duel_events = duel_events[duel_events['duel_type'] == \"Aerial\"]\n",
    "aerial_duel_count = aerial_duel_events.shape[0]\n",
    "aerial_duel_count"
   ]
  },
  {
   "cell_type": "code",
   "execution_count": 454,
   "id": "5542776f-c6f7-40a1-929a-621485e70062",
   "metadata": {},
   "outputs": [
    {
     "data": {
      "text/plain": [
       "0"
      ]
     },
     "execution_count": 454,
     "metadata": {},
     "output_type": "execute_result"
    }
   ],
   "source": [
    "# 23. Megnyert legi Parharcok szama:\n",
    "aerial_duels_won = aerial_duel_events[aerial_duel_events['duel_outcome'] == \"Won\"].shape[0]\n",
    "aerial_duels_won"
   ]
  },
  {
   "cell_type": "code",
   "execution_count": 455,
   "id": "c26a6821-a37c-4aa7-84d3-c722a6588ef1",
   "metadata": {},
   "outputs": [
    {
     "data": {
      "text/plain": [
       "0"
      ]
     },
     "execution_count": 455,
     "metadata": {},
     "output_type": "execute_result"
    }
   ],
   "source": [
    "# 24. Tamado Parharcok szama:\n",
    "offensive_duel_events = duel_events[duel_events['duel_type'] == \"Offensive\"]\n",
    "offensive_duel_count = offensive_duel_events.shape[0]\n",
    "offensive_duel_count"
   ]
  },
  {
   "cell_type": "code",
   "execution_count": 456,
   "id": "d72ded30-77f3-4010-9fde-b1bc103a620c",
   "metadata": {},
   "outputs": [
    {
     "data": {
      "text/plain": [
       "3"
      ]
     },
     "execution_count": 456,
     "metadata": {},
     "output_type": "execute_result"
    }
   ],
   "source": [
    "# 25. Labda visszaszerzes:\n",
    "ball_recovery_events = events_player[events_player['type'] == \"Ball Recovery\"]\n",
    "ball_recovery_count = ball_recovery_events.shape[0]\n",
    "ball_recovery_count"
   ]
  },
  {
   "cell_type": "code",
   "execution_count": 457,
   "id": "894e473f-a15b-485f-866a-fc6df0de7973",
   "metadata": {},
   "outputs": [
    {
     "data": {
      "text/plain": [
       "1"
      ]
     },
     "execution_count": 457,
     "metadata": {},
     "output_type": "execute_result"
    }
   ],
   "source": [
    "# 26. Labdavesztes:\n",
    "dispossessed_events = events_player[events_player['type'] == \"Dispossessed\"]\n",
    "dispossessed_count = dispossessed_events.shape[0]\n",
    "dispossessed_count"
   ]
  },
  {
   "cell_type": "code",
   "execution_count": 458,
   "id": "2a325eb4-07a1-4b3a-a05b-0ffd8f596249",
   "metadata": {},
   "outputs": [
    {
     "data": {
      "text/plain": [
       "1"
      ]
     },
     "execution_count": 458,
     "metadata": {},
     "output_type": "execute_result"
    }
   ],
   "source": [
    "# 27. Tisztazas:\n",
    "clearance_events = events_player[events_player['type'] == \"Clearance\"]\n",
    "clearance_count = clearance_events.shape[0]\n",
    "clearance_count"
   ]
  },
  {
   "cell_type": "code",
   "execution_count": 459,
   "id": "9a3a22c6-dcdf-4b10-986b-ca7fa9f8dd93",
   "metadata": {},
   "outputs": [
    {
     "data": {
      "text/plain": [
       "2"
      ]
     },
     "execution_count": 459,
     "metadata": {},
     "output_type": "execute_result"
    }
   ],
   "source": [
    "# 28. Elcsipett passz:\n",
    "interception_events = events_player[events_player['type'] == \"Interception\"]\n",
    "interception_count = interception_events.shape[0]\n",
    "interception_count"
   ]
  },
  {
   "cell_type": "code",
   "execution_count": 464,
   "id": "8bd0a78f-bc78-4857-95a3-f3b461b5171b",
   "metadata": {},
   "outputs": [
    {
     "data": {
      "text/plain": [
       "1"
      ]
     },
     "execution_count": 464,
     "metadata": {},
     "output_type": "execute_result"
    }
   ],
   "source": [
    "# 29. Blokkolasok szama:\n",
    "block_events = events_player[events_player['type'] == \"Block\"]\n",
    "block_count = block_events.shape[0]\n",
    "block_count"
   ]
  },
  {
   "cell_type": "code",
   "execution_count": 461,
   "id": "52cbbab4-03cb-4f7a-ade5-797506e52373",
   "metadata": {},
   "outputs": [
    {
     "data": {
      "text/plain": [
       "1"
      ]
     },
     "execution_count": 461,
     "metadata": {},
     "output_type": "execute_result"
    }
   ],
   "source": [
    "# 30. Szerelesek szama:\n",
    "tackle_events = events_player[(events_player['type'] == \"Duel\") & (events_player['duel_type'] == \"Tackle\")]\n",
    "tackle_count = tackle_events.shape[0]\n",
    "tackle_count"
   ]
  },
  {
   "cell_type": "code",
   "execution_count": 462,
   "id": "fb4194af-67bb-4022-9cb7-de1088fc48af",
   "metadata": {},
   "outputs": [
    {
     "data": {
      "text/plain": [
       "0"
      ]
     },
     "execution_count": 462,
     "metadata": {},
     "output_type": "execute_result"
    }
   ],
   "source": [
    "# 31. Sikeres szerelesek szama:\n",
    "successful_tackles = tackle_events[tackle_events['duel_outcome'] == \"Won\"].shape[0]\n",
    "successful_tackles"
   ]
  },
  {
   "cell_type": "code",
   "execution_count": 463,
   "id": "302b3d7f-8b20-4d40-a01a-c4f3b83c9962",
   "metadata": {},
   "outputs": [
    {
     "data": {
      "text/plain": [
       "3"
      ]
     },
     "execution_count": 463,
     "metadata": {},
     "output_type": "execute_result"
    }
   ],
   "source": [
    "# 32. Nyomas ala helyezes: (Pressing)\n",
    "pressure_events = events_player[events_player['type'] == \"Pressure\"]\n",
    "pressure_count = pressure_events.shape[0]\n",
    "pressure_count"
   ]
  }
 ],
 "metadata": {
  "kernelspec": {
   "display_name": "Python 3 (ipykernel)",
   "language": "python",
   "name": "python3"
  },
  "language_info": {
   "codemirror_mode": {
    "name": "ipython",
    "version": 3
   },
   "file_extension": ".py",
   "mimetype": "text/x-python",
   "name": "python",
   "nbconvert_exporter": "python",
   "pygments_lexer": "ipython3",
   "version": "3.12.3"
  }
 },
 "nbformat": 4,
 "nbformat_minor": 5
}
